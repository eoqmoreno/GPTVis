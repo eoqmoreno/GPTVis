{
 "cells": [
  {
   "cell_type": "markdown",
   "metadata": {},
   "source": [
    "# Processo de geração e avaliação de multiplas respostas sobre design de visualização de dados com LLMs"
   ]
  },
  {
   "cell_type": "markdown",
   "metadata": {},
   "source": [
    "O processo de geração é algo que pode ser divido em algumas partes que ajudam a construir o produto final a ser coletado.\n",
    "\n",
    "Para este trabalho, o objetivo é utilizar o grande modelo de linguagem da empresa OpenAI para gerar perguntas e respostas que auxiliem no processo de design de visualização de dados."
   ]
  },
  {
   "cell_type": "markdown",
   "metadata": {},
   "source": [
    "### Cenário\n",
    "\n",
    "Imagine o seguinte cenário:\n",
    "\n",
    "<i>Você é gerente de uma empresa de venda de eletronicos e que tem lojas espalhadas por todo o Brasil. O seu gerente do setor de smartphones, acompanhando os lançamentos dos dispositivos, avisa que será lançado um novo dispositivo Apple. Para distribuir os novos dispositivos, o seu gerente deverá apresentar quais lojas vendem mais, assim você poderá mandar mais dispositivos para o estoque.<i>\n",
    "\n",
    "\n",
    "\n",
    "Desejos na visualização:\n",
    "- Usuário: Gerente de tecnologia.\n",
    "- Desejo: Mostrar as lojas que mais vendem smartphones Apple durante o ultimo ano\n",
    "\n",
    "Entendendo esses pontos, é possível que sejam construídos prompts para o modelo de linguagem. O intuíto é que entendo o contexto do usuário e os desejos dele o sistema possa auxiliar no design da visualização.\n",
    "\n",
    "Para isso podemos usar o seguinte modelo:\n",
    "\n",
    "<b>\"Eu, como um [usuário], preciso [desejo], qual seria o melhor tipo de visualização para fazer isso?\"</b>\n",
    "\n",
    "<i>\"Eu, como um gerente de tecnologia, preciso mostrar as lojas que mais vendem smartphones Apple durante o ultimo ano, qual seria o melhor tipo de visualização para fazer isso?\"</i>"
   ]
  },
  {
   "cell_type": "markdown",
   "metadata": {},
   "source": [
    "### Montando as perguntas\n",
    "\n",
    "Vamos construir um prompt para criar os usuários, os desejos para então realizar as perguntas para o modelo. Com esse prompt podemos coleta uma lista com as sugestões de visualização de dados que o modelo acredita que poderia suprir a necessidade do usuário."
   ]
  },
  {
   "cell_type": "markdown",
   "metadata": {},
   "source": [
    "- Denfinindo a função do assistente para pergunta"
   ]
  },
  {
   "cell_type": "code",
   "execution_count": 1,
   "metadata": {},
   "outputs": [
    {
     "name": "stdout",
     "output_type": "stream",
     "text": [
      "[{'role': 'system', 'content': 'Você, como um assistente para gerar cenários, deverá construir personagens e desejos para uma visualização de dados e deverá responder a pergunta com uma lista de possibilidades de visualização de dados como resposta e retornar em uma lista no formato JSON'}, {'role': 'user', 'content': 'A pergunta de visualização de dados deverá seguir o seguinte padrão: Eu, como um [usuário], preciso [desejo], qual seria o melhor tipo de visualização para fazer isso?'}, {'role': 'user', 'content': ' Para cada pergunta deverá ser retornada uma lista com sugestões de resposta, cada item da lista de sugestões deve vir no formato: {/tipo: [tipo da visualuação de dados], descrição: [descrição clara do motivo de usar com pelo menos 50 palavras], variaveis: [lista com as variáveis necessárias para usar essa visualização e como usar a variável] }/'}, {'role': 'assistant', 'content': 'Para cada pergunta o sistema deve responder no seguinte formato: {/ pergunta: [pergunta formulada seguindo o padrão ], respostas: [lista de sugestões de visualização de dados para a pergunta seguindo o padrão com pelo menos 3 opções] }/'}, {'role': 'assistant', 'content': 'Gere para mim 20 perguntas e listas de respostas seguindo os padrões definidos em uma lista JSON'}]\n"
     ]
    }
   ],
   "source": [
    "pergunta = [\n",
    "    {\n",
    "        # aqui definimos que a resposta deve vir no formato JSON\n",
    "        \"role\": \"system\",\n",
    "        \"content\": \"Você, como um assistente para gerar cenários, deverá construir personagens e desejos para uma visualização de dados e deverá responder a pergunta com uma lista de possibilidades de visualização de dados como resposta e retornar em uma lista no formato JSON\"\n",
    "    },\n",
    "    {\n",
    "        # aqui definimos o como deverá ser a pergunta\n",
    "        \"role\": \"user\",\n",
    "        \"content\": \"A pergunta de visualização de dados deverá seguir o seguinte padrão: Eu, como um [usuário], preciso [desejo], qual seria o melhor tipo de visualização para fazer isso?\"\n",
    "    },\n",
    "    \n",
    "    {\n",
    "        # aqui definimos o padrão de resposta em cada item da lista\n",
    "        \"role\": \"user\",\n",
    "        \"content\": \" Para cada pergunta deverá ser retornada uma lista com sugestões de resposta, cada item da lista de sugestões deve vir no formato: {/tipo: [tipo da visualuação de dados], descrição: [descrição clara do motivo de usar com pelo menos 50 palavras], variaveis: [lista com as variáveis necessárias para usar essa visualização e como usar a variável] }/\"\n",
    "    },\n",
    "    \n",
    "    {\n",
    "        # aqui definimos o como deverá ser a pergunta\n",
    "        \"role\": \"assistant\",\n",
    "        \"content\": \"Para cada pergunta o sistema deve responder no seguinte formato: {/ pergunta: [pergunta formulada seguindo o padrão ], respostas: [lista de sugestões de visualização de dados para a pergunta seguindo o padrão com pelo menos 3 opções] }/\"\n",
    "    },\n",
    "    \n",
    "    {\n",
    "        # aqui definimos o como deverá ser a pergunta\n",
    "        \"role\": \"assistant\",\n",
    "        \"content\": \"Gere para mim 20 perguntas e listas de respostas seguindo os padrões definidos em uma lista JSON\"\n",
    "    },\n",
    "]\n",
    "print(pergunta, )"
   ]
  },
  {
   "cell_type": "markdown",
   "metadata": {},
   "source": [
    "- Importando o ChatGPT"
   ]
  },
  {
   "cell_type": "code",
   "execution_count": 2,
   "metadata": {},
   "outputs": [],
   "source": [
    "from openai import OpenAI # type: ignore\n",
    "client = OpenAI()"
   ]
  },
  {
   "cell_type": "markdown",
   "metadata": {},
   "source": [
    "- Criando uma função para executar o Chat"
   ]
  },
  {
   "cell_type": "code",
   "execution_count": 3,
   "metadata": {},
   "outputs": [],
   "source": [
    "def executarChat(mensagem):\n",
    "  return client.chat.completions.create(\n",
    "    model=\"gpt-3.5-turbo-1106\",\n",
    "    response_format={ \"type\": \"json_object\" },\n",
    "    messages=mensagem,\n",
    "  )"
   ]
  },
  {
   "cell_type": "markdown",
   "metadata": {},
   "source": [
    "- Executando o chat com o modelo e o formato para as perguntas e respostas"
   ]
  },
  {
   "cell_type": "code",
   "execution_count": 4,
   "metadata": {},
   "outputs": [
    {
     "name": "stdout",
     "output_type": "stream",
     "text": [
      "{\n",
      "  \"perguntas\": [\n",
      "    {\n",
      "      \"pergunta\": \"Eu, como um analista de marketing, preciso visualizar a distribuição de idade dos clientes, qual seria o melhor tipo de visualização para fazer isso?\",\n",
      "      \"respostas\": [\n",
      "        {\n",
      "          \"tipo\": \"Histograma\",\n",
      "          \"descricao\": \"Um histograma é uma visualização gráfica de dados que usa barras para representar a frequência ou a distribuição de um conjunto de dados. Ao plotar a distribuição de idade dos clientes em um histograma, é possível identificar os intervalos de idade mais comuns e observar a distribuição geral da idade dos clientes.\",\n",
      "          \"variaveis\": [\"Idade dos clientes\"],\n",
      "          \"como_usar\": \"Para utilizar um histograma, basta plotar os dados de idade dos clientes no eixo x e a frequência no eixo y.\"\n",
      "        },\n",
      "        {\n",
      "          \"tipo\": \"Gráfico de barras\",\n",
      "          \"descricao\": \"Um gráfico de barras é uma excelente forma de visualizar a distribuição de idade dos clientes, pois permite comparar facilmente diferentes faixas etárias e identificar tendências. Ao plotar a idade no eixo x e a contagem de clientes no eixo y, é possível ter uma visão clara da distribuição de idade.\",\n",
      "          \"variaveis\": [\"Idade dos clientes\"],\n",
      "          \"como_usar\": \"Para utilizar um gráfico de barras, basta plotar a idade no eixo x e a contagem de clientes no eixo y, agrupando por faixas etárias.\"\n",
      "        },\n",
      "        {\n",
      "          \"tipo\": \"Gráfico de pizza\",\n",
      "          \"descricao\": \"Apesar de ser menos indicado para visualizar distribuições, o gráfico de pizza pode ser utilizado para mostrar a proporção de diferentes faixas etárias entre os clientes. Cada fatia do gráfico representará uma faixa etária e a área total do gráfico mostra a distribuição geral de idade.\",\n",
      "          \"variaveis\": [\"Idade dos clientes\"],\n",
      "          \"como_usar\": \"Para utilizar um gráfico de pizza, represente cada faixa etária como uma fatia do círculo, destacando as proporções entre as faixas etárias.\"\n",
      "        }\n",
      "      ]\n",
      "    },\n",
      "    {\n",
      "      \"pergunta\": \"Eu, como um cientista de dados, preciso visualizar a correlação entre variáveis, qual seria o melhor tipo de visualização para fazer isso?\",\n",
      "      \"respostas\": [\n",
      "        {\n",
      "          \"tipo\": \"Gráfico de dispersão\",\n",
      "          \"descricao\": \"O gráfico de dispersão é uma das melhores formas de visualizar a correlação entre duas variáveis. Ao plotar os pontos em um plano cartesiano, é possível identificar padrões e tendências entre as variáveis, como relações lineares, não lineares ou a presença de outliers.\",\n",
      "          \"variaveis\": [\"Variável x\", \"Variável y\"],\n",
      "          \"como_usar\": \"Para utilizar um gráfico de dispersão, basta plotar os valores da variável x no eixo x e os valores da variável y no eixo y, observando a distribuição dos pontos.\"\n",
      "        },\n",
      "        {\n",
      "          \"tipo\": \"Mapa de calor\",\n",
      "          \"descricao\": \"Um mapa de calor é uma forma eficaz de visualizar a correlação entre várias variáveis ao mesmo tempo. Cores mais fortes indicam correlações mais fortes e cores mais fracas indicam correlações mais fracas. Essa visualização é especialmente útil quando se deseja visualizar a matriz de correlação completa entre várias variáveis.\",\n",
      "          \"variaveis\": [\"Conjunto de variáveis\"],\n",
      "          \"como_usar\": \"Para utilizar um mapa de calor, basta plotar a matriz de correlação, onde cada célula representa o valor da correlação entre duas variáveis, sendo que a intensidade da cor representa a força da correlação.\"\n",
      "        },\n",
      "        {\n",
      "          \"tipo\": \"Gráfico de bolhas\",\n",
      "          \"descricao\": \"O gráfico de bolhas é uma visualização mais avançada que permite visualizar a correlação entre três variáveis simultaneamente. Além de representar a relação entre duas variáveis em um plano cartesiano, o tamanho das bolhas pode representar uma terceira variável, facilitando a visualização de múltiplos aspectos da correlação.\",\n",
      "          \"variaveis\": [\"Variável x\", \"Variável y\", \"Variável z\"],\n",
      "          \"como_usar\": \"Para utilizar um gráfico de bolhas, basta plotar os valores da variável x no eixo x, os valores da variável y no eixo y e o tamanho das bolhas representa a variável z.\"\n",
      "        }\n",
      "      ]\n",
      "    }\n",
      "  ]\n",
      "}\n"
     ]
    }
   ],
   "source": [
    "responsePerguntas = executarChat(pergunta).choices[0].message.content\n",
    "\n",
    "print(responsePerguntas)"
   ]
  },
  {
   "cell_type": "markdown",
   "metadata": {},
   "source": [
    "- Guardando as informações da pergunta em um JSON"
   ]
  },
  {
   "cell_type": "code",
   "execution_count": 20,
   "metadata": {},
   "outputs": [
    {
     "name": "stdout",
     "output_type": "stream",
     "text": [
      "Dados salvos em./perguntas/responsePerguntas_22_04_24_11_21_50.json\n"
     ]
    }
   ],
   "source": [
    "import json\n",
    "from datetime import datetime\n",
    "\n",
    "hora = datetime.today().strftime('%d_%m_%y_%H_%M_%S')\n",
    "nomeArquivo = \"./perguntas/responsePerguntas_\"+hora+\".json\"\n",
    "\n",
    "if responsePerguntas is not None:\n",
    "  jsonConverted = json.loads(responsePerguntas)\n",
    "  with open(nomeArquivo, \"w\", encoding='utf-8') as outfile:\n",
    "    json.dump(jsonConverted, outfile, ensure_ascii=False)\n",
    "  print(\"Dados salvos em\" + nomeArquivo)"
   ]
  },
  {
   "cell_type": "markdown",
   "metadata": {},
   "source": [
    "- Definindo a função do assistente para avaliar as respostas"
   ]
  },
  {
   "cell_type": "code",
   "execution_count": 35,
   "metadata": {},
   "outputs": [
    {
     "name": "stdout",
     "output_type": "stream",
     "text": [
      "[{'role': 'system', 'content': 'Você como um assistente no processo de design de visualização de dados, deverá avaliar as possibilidades de resposta e responder com uma classificação de qual seria a mais indicada em formato JSON'}, {'role': 'user', 'content': 'Você receberá um JSON com o seguinte formato: perguntas : {/ pergunta : [pergunta de design de visualização de dados], respostas: [lista de respostas para a pergunta com o seguinte formato {/ tipo: [tipo de visualização de dados], descrição: [descrição da visualização para a pergunta], variaveis: [lista de variáveis necessárias para construir a visualização] }/ ] }/'}, {'role': 'user', 'content': 'Você deverá avaliar cada uma das respostas de visualização de dados e retornar uma lista com as seguintes informações: {/ pergunta: [pergunta de design de visualização de dados], avaliações: [lista de avaliações das respostas para a visualização]}/'}, {'role': 'user', 'content': 'As avaliações das resposta para cada pergunta deverá ter o seguinte formato {/ tipo: [tipo da visualuação de dados], descrição: [descrição da visualização para a pergunta], variaveis: [lista de variáveis necessárias para construir a visualização], nota: [uma nota de 1-7 para a visualização], motivo: [descrever o motivo da nota em relação as demais opções] }/ }/'}, {'role': 'user', 'content': 'avalie cada uma das respostas de visualização de dados e retorne uma lista com as perguntas e respostas no processo de design de visualização de dados a seguir: {\\n    \"perguntas\": [\\n        {\\n            \"pergunta\": \"Eu, como um analista de marketing, preciso visualizar a distribuição de idades dos nossos clientes, qual seria o melhor tipo de visualização para fazer isso?\",\\n            \"respostas\": [\\n                {\\n                    \"tipo\": \"Gráfico de Barras \",\\n                    \"descrição\": \"O gráfico de barras é uma excelente opção para visualizar a distribuição de idades, pois permite comparar facilmente diferentes faixas etárias. Cada barra representa uma faixa etária e a altura da barra mostra a frequência ou porcentagem de clientes nessa faixa. As variáveis necessárias seriam a faixa etária e o número de clientes pertencentes a cada faixa.\",\\n                    \"variaveis\": [\"Faixa Etária\", \"Número de Clientes\"]\\n                },\\n                {\\n                    \"tipo\": \"Histograma\",\\n                    \"descrição\": \"O histograma é uma visualização ideal para entender a distribuição de idades de forma mais detalhada. Ele agrupa as idades em intervalos e mostra a frequência de clientes em cada intervalo. Isso é útil para identificar padrões e outliers. As variáveis necessárias seriam a idade dos clientes e a contagem de clientes em cada intervalo.\",\\n                    \"variaveis\": [\"Idade do Cliente\", \"Contagem de Clientes\"]\\n                },\\n                {\\n                    \"tipo\": \"Gráfico de Pizza (Pizza Chart)\",\\n                    \"descrição\": \"Embora menos comum, um gráfico de pizza pode ser usado para mostrar a distribuição das idades dos clientes. Cada fatia da pizza representa uma faixa etária e o tamanho de cada fatia mostra a proporção relativa de clientes nessa faixa. No entanto, é importante lembrar que gráficos de pizza podem ser menos eficientes do que outras opções para visualizar distribuições detalhadas. As variáveis necessárias seriam a faixa etária e a porcentagem de clientes em cada faixa.\",\\n                    \"variaveis\": [\"Faixa Etária\", \"Porcentagem de Clientes\"]\\n                }\\n            ]\\n        },\\n        {\\n            \"pergunta\": \"Eu, como um cientista de dados, preciso visualizar a correlação entre variáveis do nosso conjunto de dados, qual seria o melhor tipo de visualização para fazer isso?\",\\n            \"respostas\": [\\n                {\\n                    \"tipo\": \"Gráfico de Dispersão (Scatter Plot)\",\\n                    \"descrição\": \"O gráfico de dispersão é a melhor maneira de visualizar correlações entre variáveis contínuas. Cada ponto no gráfico representa uma observação e a posição dos pontos revela a relação entre as variáveis. É útil para identificar tendências, padrões e possíveis outliers. As variáveis necessárias seriam as duas variáveis que se deseja correlacionar.\",\\n                    \"variaveis\": [\"Variável X\", \"Variável Y\"]\\n                },\\n                {\\n                    \"tipo\": \"Matriz de Correlação\",\\n                    \"descrição\": \"Uma matriz de correlação é útil para visualizar as correlações entre várias variáveis ao mesmo tempo. Os valores na matriz representam o grau e direção das correlações. Isso é útil para identificar padrões complexos de correlação entre múltiplas variáveis. As variáveis necessárias seriam todas as variáveis que se deseja correlacionar.\",\\n                    \"variaveis\": [\"Conjunto de Variáveis para Correlacionar\"]\\n                },\\n                {\\n                    \"tipo\": \"Heatmap\",\\n                    \"descrição\": \"Um heatmap pode ser usado para visualizar a correlação entre variáveis codificando as correlações com cores. Isso facilita a identificação de padrões de correlação forte ou fraca. É uma forma eficaz de entender as relações entre várias variáveis. As variáveis necessárias seriam todas as variáveis que se deseja correlacionar.\",\\n                    \"variaveis\": [\"Conjunto de Variáveis para Correlacionar\"]\\n                }\\n            ]\\n        },\\n        {\\n            \"pergunta\": \"Eu, como um gestor financeiro, preciso comparar o desempenho de vendas ao longo do último trimestre, qual seria o melhor tipo de visualização para fazer isso?\",\\n            \"respostas\": [\\n                {\\n                    \"tipo\": \"Gráfico de Linhas (Line Chart)\",\\n                    \"descrição\": \"O gráfico de linhas é ideal para visualizar tendências ao longo do tempo, como o desempenho de vendas por trimestre. Ele mostra claramente as variações e padrões ao longo do tempo, permitindo identificar mudanças de desempenho. As variáveis necessárias seriam o trimestre e o valor das vendas nesse trimestre.\",\\n                    \"variaveis\": [\"Trimestre\", \"Valor das Vendas\"]\\n                },\\n                {\\n                    \"tipo\": \"Gráfico de Barras Agrupado (Grouped Bar Chart)\",\\n                    \"descrição\": \"Um gráfico de barras agrupado pode ser usado para comparar o desempenho de vendas entre diferentes produtos ou regiões ao longo do último trimestre. Ele permite visualizar facilmente as diferenças de desempenho entre as categorias abordadas. As variáveis necessárias seriam a categoria (produto ou região) e o valor das vendas.\",\\n                    \"variaveis\": [\"Categoria (Produto ou Região)\", \"Valor das Vendas\"]\\n                },\\n                {\\n                    \"tipo\": \"Gráfico de Área (Area Chart)\",\\n                    \"descrição\": \"Um gráfico de área pode ser utilizado para mostrar a distribuição do desempenho de vendas ao longo do último trimestre. Ele destaca as variações ao longo do tempo de uma forma visualmente atraente, mostrando as mudanças de desempenho de forma clara. As variáveis necessárias seriam o trimestre e o valor das vendas nesse trimestre.\",\\n                    \"variaveis\": [\"Trimestre\", \"Valor das Vendas\"]\\n                }\\n            ]\\n        },\\n        {\\n            \"pergunta\": \"Eu, como um analista de recursos humanos, preciso visualizar a distribuição de salários dos funcionários da empresa, qual seria o melhor tipo de visualização para fazer isso?\",\\n            \"respostas\": [\\n                {\\n                    \"tipo\": \"Boxplot\",\\n                    \"descrição\": \"O boxplot é uma visualização ideal para visualizar a distribuição de salários, pois além de mostrar a mediana e quartis, também identifica os outliers. Isso ajuda a entender a distribuição dos salários de forma clara e identificar possíveis discrepâncias. As variáveis necessárias seriam apenas os salários dos funcionários.\",\\n                    \"variaveis\": [\"Salários dos Funcionários\"]\\n                },\\n                {\\n                    \"tipo\": \"Histograma\",\\n                    \"descrição\": \"O histograma é uma boa opção para visualizar a distribuição de salários de forma mais detalhada. Ele agrupa os salários em intervalos e mostra a frequência de funcionários em cada intervalo. Isso é útil para identificar padrões e outliers nos salários. As variáveis necessárias seriam os salários dos funcionários e a contagem de funcionários em cada intervalo.\",\\n                    \"variaveis\": [\"Salários dos Funcionários\", \"Contagem de Funcionários\"]\\n                },\\n                {\\n                    \"tipo\": \"Gráfico de Densidade (Density Plot)\",\\n                    \"descrição\": \"Um gráfico de densidade pode ser usado para visualizar a distribuição suave dos salários dos funcionários. Ele destaca a forma da distribuição e é útil para identificar picos e formas da distribuição dos salários. As variáveis necessárias seriam apenas os salários dos funcionários.\",\\n                    \"variaveis\": [\"Salários dos Funcionários\"]\\n                }\\n            ]\\n        },\\n        {\\n            \"pergunta\": \"Eu, como um analista de vendas, preciso comparar o desempenho de vendas entre diferentes regiões do país, qual seria o melhor tipo de visualização para fazer isso?\",\\n            \"respostas\": [\\n                {\\n                    \"tipo\": \"Mapa de Calor (Heat Map)\",\\n                    \"descrição\": \"Um mapa de calor pode ser utilizado para visualizar o desempenho de vendas em diferentes regiões do país. Ele codifica as vendas com cores, facilitando a identificação de regiões com maiores ou menores vendas. Isso é útil para destacar padrões geográficos de desempenho de vendas. As variáveis necessárias seriam a região geográfica e o valor das vendas nessa região.\",\\n                    \"variaveis\": [\"Região Geográfica\", \"Valor das Vendas\"]\\n                },\\n                {\\n                    \"tipo\": \"Gráfico de Barras (Bar Chart)\",\\n                    \"descrição\": \"Um gráfico de barras é eficaz para comparar o desempenho de vendas entre diferentes regiões. Cada barra representa uma região e a altura da barra mostra o valor das vendas nessa região. É útil para visualizar diferenças de desempenho entre as regiões de forma clara. As variáveis necessárias seriam a região e o valor das vendas.\",\\n                    \"variaveis\": [\"Região\", \"Valor das Vendas\"]\\n                },\\n                {\\n                    \"tipo\": \"Gráfico de Linhas (Line Chart)\",\\n                    \"descrição\": \"Um gráfico de linhas pode ser utilizado para visualizar as tendências de vendas ao longo do tempo em diferentes regiões. Mostra como as vendas evoluíram ao longo do tempo em cada região, facilitando a comparação de desempenho entre elas. As variáveis necessárias seriam a região, o trimestre e o valor das vendas.\",\\n                    \"variaveis\": [\"Região\", \"Trimestre\", \"Valor das Vendas\"]\\n                }\\n            ]\\n        }\\n    ]\\n}'}]\n"
     ]
    }
   ],
   "source": [
    "resposta = [\n",
    "    {\n",
    "        # aqui definimos que a resposta deve vir no formato JSON\n",
    "        \"role\": \"system\",\n",
    "        \"content\": \"Você como um assistente no processo de design de visualização de dados, deverá avaliar as possibilidades de resposta e responder com uma classificação de qual seria a mais indicada em formato JSON\"\n",
    "    },\n",
    "    \n",
    "    {\n",
    "        \"role\": \"user\",\n",
    "        \"content\": \"Você receberá um JSON com o seguinte formato: perguntas : {/ pergunta : [pergunta de design de visualização de dados], respostas: [lista de respostas para a pergunta com o seguinte formato {/ tipo: [tipo de visualização de dados], descrição: [descrição da visualização para a pergunta], variaveis: [lista de variáveis necessárias para construir a visualização] }/ ] }/\"\n",
    "    },\n",
    "    \n",
    "    {\n",
    "        \"role\": \"user\",\n",
    "        \"content\": \"Você deverá avaliar cada uma das respostas de visualização de dados e retornar uma lista com as seguintes informações: {/ pergunta: [pergunta de design de visualização de dados], avaliações: [lista de avaliações das respostas para a visualização]}/\"\n",
    "    },\n",
    "    \n",
    "    {\n",
    "        \"role\": \"user\",\n",
    "        \"content\": \"As avaliações das resposta para cada pergunta deverá ter o seguinte formato {/ tipo: [tipo da visualuação de dados], descrição: [descrição da visualização para a pergunta], variaveis: [lista de variáveis necessárias para construir a visualização], nota: [uma nota de 1-7 para a visualização], motivo: [descrever o motivo da nota em relação as demais opções] }/ }/\"\n",
    "    },\n",
    "    \n",
    "    {\n",
    "        \"role\": \"user\",\n",
    "        \"content\": \"avalie cada uma das respostas de visualização de dados e retorne uma lista com as perguntas e respostas no processo de design de visualização de dados a seguir: \" + responsePerguntas # type: ignore\n",
    "     }\n",
    "]\n",
    "\n",
    "print(resposta)"
   ]
  },
  {
   "cell_type": "markdown",
   "metadata": {},
   "source": [
    "- Executando o chat com o modelo e o formato para avaliar as respostas"
   ]
  },
  {
   "cell_type": "code",
   "execution_count": 36,
   "metadata": {},
   "outputs": [
    {
     "name": "stdout",
     "output_type": "stream",
     "text": [
      "{\n",
      "  \"perguntas\": [\n",
      "    {\n",
      "      \"pergunta\": \"Eu, como um analista de marketing, preciso visualizar a distribuição de idades dos nossos clientes, qual seria o melhor tipo de visualização para fazer isso?\",\n",
      "      \"avaliações\": [\n",
      "        {\n",
      "          \"tipo\": \"Gráfico de Barras\",\n",
      "          \"descrição\": \"O gráfico de barras é uma excelente opção para visualizar a distribuição de idades, pois permite comparar facilmente diferentes faixas etárias.\",\n",
      "          \"variaveis\": [\"Faixa Etária\", \"Número de Clientes\"],\n",
      "          \"nota\": 5,\n",
      "          \"motivo\": \"Permite comparação de diferentes faixas etárias, mas pode não ser tão eficiente para distribuições detalhadas.\"\n",
      "        },\n",
      "        {\n",
      "          \"tipo\": \"Histograma\",\n",
      "          \"descrição\": \"O histograma é uma visualização ideal para entender a distribuição de idades de forma mais detalhada.\",\n",
      "          \"variaveis\": [\"Idade do Cliente\", \"Contagem de Clientes\"],\n",
      "          \"nota\": 7,\n",
      "          \"motivo\": \"É a melhor opção para visualizar a distribuição de idades de forma detalhada e identificar padrões.\"\n",
      "        },\n",
      "        {\n",
      "          \"tipo\": \"Gráfico de Pizza (Pizza Chart)\",\n",
      "          \"descrição\": \"Embora menos comum, um gráfico de pizza pode ser usado para mostrar a distribuição das idades dos clientes.\",\n",
      "          \"variaveis\": [\"Faixa Etária\", \"Porcentagem de Clientes\"],\n",
      "          \"nota\": 3,\n",
      "          \"motivo\": \"Menos eficiente do que outras opções para visualizar distribuições detalhadas.\"\n",
      "        }\n",
      "      ]\n",
      "    },\n",
      "    {\n",
      "      \"pergunta\": \"Eu, como um cientista de dados, preciso visualizar a correlação entre variáveis do nosso conjunto de dados, qual seria o melhor tipo de visualização para fazer isso?\",\n",
      "      \"avaliações\": [\n",
      "        {\n",
      "          \"tipo\": \"Gráfico de Dispersão (Scatter Plot)\",\n",
      "          \"descrição\": \"O gráfico de dispersão é a melhor maneira de visualizar correlações entre variáveis contínuas.\",\n",
      "          \"variaveis\": [\"Variável X\", \"Variável Y\"],\n",
      "          \"nota\": 6,\n",
      "          \"motivo\": \"Permite identificar tendências, padrões e outliers, mas pode ser limitado para correlações entre múltiplas variáveis.\"\n",
      "        },\n",
      "        {\n",
      "          \"tipo\": \"Matriz de Correlação\",\n",
      "          \"descrição\": \"Uma matriz de correlação é útil para visualizar as correlações entre várias variáveis ao mesmo tempo.\",\n",
      "          \"variaveis\": [\"Conjunto de Variáveis para Correlacionar\"],\n",
      "          \"nota\": 7,\n",
      "          \"motivo\": \"Útil para identificar padrões complexos de correlação entre múltiplas variáveis.\"\n",
      "        },\n",
      "        {\n",
      "          \"tipo\": \"Heatmap\",\n",
      "          \"descrição\": \"Um heatmap pode ser usado para visualizar a correlação entre variáveis codificando as correlações com cores.\",\n",
      "          \"variaveis\": [\"Conjunto de Variáveis para Correlacionar\"],\n",
      "          \"nota\": 6,\n",
      "          \"motivo\": \"Facilita a identificação de padrões de correlação forte ou fraca, mas pode ser menos preciso que a matriz de correlação.\"\n",
      "        }\n",
      "      ]\n",
      "    },\n",
      "    {\n",
      "      \"pergunta\": \"Eu, como um gestor financeiro, preciso comparar o desempenho de vendas ao longo do último trimestre, qual seria o melhor tipo de visualização para fazer isso?\",\n",
      "      \"avaliações\": [\n",
      "        {\n",
      "          \"tipo\": \"Gráfico de Linhas (Line Chart)\",\n",
      "          \"descrição\": \"O gráfico de linhas é ideal para visualizar tendências ao longo do tempo, como o desempenho de vendas por trimestre.\",\n",
      "          \"variaveis\": [\"Trimestre\", \"Valor das Vendas\"],\n",
      "          \"nota\": 7,\n",
      "          \"motivo\": \"Mostra claramente as variações e padrões ao longo do tempo, permitindo identificar mudanças de desempenho.\"\n",
      "        },\n",
      "        {\n",
      "          \"tipo\": \"Gráfico de Barras Agrupado (Grouped Bar Chart)\",\n",
      "          \"descrição\": \"Um gráfico de barras agrupado pode ser usado para comparar o desempenho de vendas entre diferentes produtos ou regiões ao longo do último trimestre.\",\n",
      "          \"variaveis\": [\"Categoria (Produto ou Região)\", \"Valor das Vendas\"],\n",
      "          \"nota\": 5,\n",
      "          \"motivo\": \"Permite comparar desempenho entre diferentes categorias, mas pode ser menos eficaz para visualizar tendências ao longo do tempo.\"\n",
      "        },\n",
      "        {\n",
      "          \"tipo\": \"Gráfico de Área (Area Chart)\",\n",
      "          \"descrição\": \"Um gráfico de área pode ser utilizado para mostrar a distribuição do desempenho de vendas ao longo do último trimestre.\",\n",
      "          \"variaveis\": [\"Trimestre\", \"Valor das Vendas\"],\n",
      "          \"nota\": 6,\n",
      "          \"motivo\": \"Destaca as variações ao longo do tempo de forma visualmente atraente, mas pode ser menos preciso que o gráfico de linhas.\"\n",
      "        }\n",
      "      ]\n",
      "    },\n",
      "    {\n",
      "      \"pergunta\": \"Eu, como um analista de recursos humanos, preciso visualizar a distribuição de salários dos funcionários da empresa, qual seria o melhor tipo de visualização para fazer isso?\",\n",
      "      \"avaliações\": [\n",
      "        {\n",
      "          \"tipo\": \"Boxplot\",\n",
      "          \"descrição\": \"O boxplot é uma visualização ideal para visualizar a distribuição de salários, pois além de mostrar a mediana e quartis, também identifica os outliers.\",\n",
      "          \"variaveis\": [\"Salários dos Funcionários\"],\n",
      "          \"nota\": 7,\n",
      "          \"motivo\": \"Mostra a distribuição de salários de forma clara e identifica possíveis discrepâncias.\"\n",
      "        },\n",
      "        {\n",
      "          \"tipo\": \"Histograma\",\n",
      "          \"descrição\": \"O histograma é uma boa opção para visualizar a distribuição de salários de forma mais detalhada.\",\n",
      "          \"variaveis\": [\"Salários dos Funcionários\", \"Contagem de Funcionários\"],\n",
      "          \"nota\": 6,\n",
      "          \"motivo\": \"Útil para identificar padrões e outliers nos salários, mas pode ser menos preciso que o boxplot.\"\n",
      "        },\n",
      "        {\n",
      "          \"tipo\": \"Gráfico de Densidade (Density Plot)\",\n",
      "          \"descrição\": \"Um gráfico de densidade pode ser usado para visualizar a distribuição suave dos salários dos funcionários.\",\n",
      "          \"variaveis\": [\"Salários dos Funcionários\"],\n",
      "          \"nota\": 5,\n",
      "          \"motivo\": \"Destaca a forma da distribuição, mas pode ser menos eficiente para identificar outliers.\"\n",
      "        }\n",
      "      ]\n",
      "    },\n",
      "    {\n",
      "      \"pergunta\": \"Eu, como um analista de vendas, preciso comparar o desempenho de vendas entre diferentes regiões do país, qual seria o melhor tipo de visualização para fazer isso?\",\n",
      "      \"avaliações\": [\n",
      "        {\n",
      "          \"tipo\": \"Mapa de Calor (Heat Map)\",\n",
      "          \"descrição\": \"Um mapa de calor pode ser utilizado para visualizar o desempenho de vendas em diferentes regiões do país.\",\n",
      "          \"variaveis\": [\"Região Geográfica\", \"Valor das Vendas\"],\n",
      "          \"nota\": 6,\n",
      "          \"motivo\": \"Facilita a identificação de padrões geográficos de desempenho de vendas, mas pode ser menos preciso que outras opções.\"\n",
      "        },\n",
      "        {\n",
      "          \"tipo\": \"Gráfico de Barras (Bar Chart)\",\n",
      "          \"descrição\": \"Um gráfico de barras é eficaz para comparar o desempenho de vendas entre diferentes regiões.\",\n",
      "          \"variaveis\": [\"Região\", \"Valor das Vendas\"],\n",
      "          \"nota\": 5,\n",
      "          \"motivo\": \"Permite visualizar diferenças de desempenho entre as regiões de forma clara, mas pode ser menos eficiente para visualizar tendências ao longo do tempo.\"\n",
      "        },\n",
      "        {\n",
      "          \"tipo\": \"Gráfico de Linhas (Line Chart)\",\n",
      "          \"descrição\": \"Um gráfico de linhas pode ser utilizado para visualizar as tendências de vendas ao longo do tempo em diferentes regiões.\",\n",
      "          \"variaveis\": [\"Região\", \"Trimestre\", \"Valor das Vendas\"],\n",
      "          \"nota\": 7,\n",
      "          \"motivo\": \"Facilita a comparação de desempenho entre diferentes regiões ao longo do tempo.\"\n",
      "        }\n",
      "      ]\n",
      "    }\n",
      "  ]\n",
      "}\n"
     ]
    }
   ],
   "source": [
    "responseRespostas = executarChat(resposta).choices[0].message.content\n",
    "\n",
    "print(responseRespostas)"
   ]
  },
  {
   "cell_type": "markdown",
   "metadata": {},
   "source": [
    "- Guardando as informações de avaliação de resposta em um JSON"
   ]
  },
  {
   "cell_type": "code",
   "execution_count": 46,
   "metadata": {},
   "outputs": [
    {
     "name": "stdout",
     "output_type": "stream",
     "text": [
      "Dados salvos em responseRespostas.json\n"
     ]
    }
   ],
   "source": [
    "if responseRespostas is not None:\n",
    "  jsonConverted = json.loads(responseRespostas)\n",
    "  with open(\"responseRespostas.json\", \"w\", encoding='utf-8') as outfile:\n",
    "    json.dump(jsonConverted, outfile, ensure_ascii=False)\n",
    "  print(\"Dados salvos em responseRespostas.json\")"
   ]
  },
  {
   "cell_type": "markdown",
   "metadata": {},
   "source": [
    "- Convertendo respostas para CSV"
   ]
  },
  {
   "cell_type": "code",
   "execution_count": 60,
   "metadata": {},
   "outputs": [
    {
     "name": "stdout",
     "output_type": "stream",
     "text": [
      "Arquivo criado\n",
      "Cabeçalho criado\n",
      "Informações preenchidas\n"
     ]
    }
   ],
   "source": [
    "import csv\n",
    "\n",
    "with open(\"responseRespostas.json\", \"r\", encoding='utf-8') as inputfile:\n",
    "    datas = json.load(inputfile)\n",
    "\n",
    "for data in datas['perguntas']:\n",
    "    for evaluation in data['avaliações']:\n",
    "        row = [data['pergunta'],evaluation['tipo'], evaluation['descrição'], evaluation['variaveis'], evaluation['nota'], evaluation['motivo']]\n",
    "\n",
    "# # Abrir um arquivo CSV para escrita\n",
    "with open('responseRespostas.csv', 'w', newline='', encoding='utf-8') as file:\n",
    "    # Criar um objeto escritor CSV\n",
    "    csv_writer = csv.writer(file)\n",
    "    print('Arquivo criado')\n",
    "    \n",
    "    # Escrever a linha de cabeçalho\n",
    "    header = ['Pergunta', 'Tipo', 'Descrição', 'Variáveis', 'Nota', 'Motivo']\n",
    "    csv_writer.writerow(header)\n",
    "    print('Cabeçalho criado')\n",
    "    \n",
    "#     # Escrever as linhas de dados\n",
    "    for data in datas['perguntas']:\n",
    "        for evaluation in data['avaliações']:\n",
    "            row = [data['pergunta'],evaluation['tipo'], evaluation['descrição'], evaluation['variaveis'], evaluation['nota'], evaluation['motivo']]\n",
    "            csv_writer.writerow(row)\n",
    "    print('Informações preenchidas')"
   ]
  }
 ],
 "metadata": {
  "kernelspec": {
   "display_name": "Python 3",
   "language": "python",
   "name": "python3"
  },
  "language_info": {
   "codemirror_mode": {
    "name": "ipython",
    "version": 3
   },
   "file_extension": ".py",
   "mimetype": "text/x-python",
   "name": "python",
   "nbconvert_exporter": "python",
   "pygments_lexer": "ipython3",
   "version": "3.12.2"
  }
 },
 "nbformat": 4,
 "nbformat_minor": 2
}

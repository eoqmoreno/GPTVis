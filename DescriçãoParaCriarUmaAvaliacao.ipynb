{
 "cells": [
  {
   "cell_type": "markdown",
   "metadata": {},
   "source": [
    "# Processo de geração e avaliação de resposta sobre design de visualização de dados com LLMs"
   ]
  },
  {
   "cell_type": "markdown",
   "metadata": {},
   "source": [
    "O processo de geração é algo que pode ser divido em algumas partes que ajudam a construir o produto final a ser coletado.\n",
    "\n",
    "Para este trabalho, o objetivo é utilizar o grande modelo de linguagem da empresa OpenAI para gerar perguntas e respostas que auxiliem no processo de design de visualização de dados."
   ]
  },
  {
   "cell_type": "markdown",
   "metadata": {},
   "source": [
    "### Cenário\n",
    "\n",
    "Imagine o seguinte cenário:\n",
    "\n",
    "<i>Você é gerente de uma empresa de venda de eletronicos e que tem lojas espalhadas por todo o Brasil. O seu gerente do setor de smartphones, acompanhando os lançamentos dos dispositivos, avisa que será lançado um novo dispositivo Apple. Para distribuir os novos dispositivos, o seu gerente deverá apresentar quais lojas vendem mais, assim você poderá mandar mais dispositivos para o estoque.</i>\n",
    "\n",
    "\n",
    "\n",
    "Desejos na visualização:\n",
    "- Usuário: Gerente de tecnologia.\n",
    "- Desejo: Mostrar as lojas que mais vendem smartphones Apple durante o ultimo ano\n",
    "\n",
    "Entendendo esses pontos, é possível que sejam construídas respostas e avaliação das respostas com o modelo. O intuíto é que entendo o contexto do usuário e os desejos dele o sistema possa auxiliar no design da visualização."
   ]
  },
  {
   "cell_type": "code",
   "execution_count": 3,
   "metadata": {},
   "outputs": [],
   "source": [
    "usuario = \"gerente de tecnologia\"\n",
    "desejo = \"Mostrar as lojas que mais vendem smartphones Apple durante o ultimo ano\""
   ]
  },
  {
   "cell_type": "markdown",
   "metadata": {},
   "source": [
    "Vamos agora montar o prompt com o perfil do usuário e o desejo que quer apresentar com a visualização"
   ]
  },
  {
   "cell_type": "code",
   "execution_count": 4,
   "metadata": {},
   "outputs": [
    {
     "name": "stdout",
     "output_type": "stream",
     "text": [
      "Eu, como um gerente de tecnologia, quero mostrar as lojas que mais vendem smartphones apple durante o ultimo ano, quais poderiam ser as melhores visualizações de dados para isso?\n"
     ]
    }
   ],
   "source": [
    "def criarPrompt (usuario, desejo):\n",
    "    return \"Eu, como um \" + usuario.lower() + \", preciso \" + desejo.lower()+ \", quais poderiam ser as melhores visualizações de dados para isso?\"\n",
    "\n",
    "promptPergunta = criarPrompt(usuario, desejo)\n",
    "print(promptPergunta)"
   ]
  },
  {
   "cell_type": "markdown",
   "metadata": {},
   "source": [
    "### Lançar uma pergunta para o modelo\n",
    "\n",
    "Tendo o prompt construído, é possíve realizar o primeiro pedido ao modelo, neste caso o ChatGPT. Com esse prompt podemos coleta uma lista com as sugestões de visualização de dados que o modelo acredita que poderia suprir a necessidade do usuário."
   ]
  },
  {
   "cell_type": "markdown",
   "metadata": {},
   "source": [
    "- Importando o ChatGPT"
   ]
  },
  {
   "cell_type": "code",
   "execution_count": 5,
   "metadata": {},
   "outputs": [],
   "source": [
    "from openai import OpenAI # type: ignore\n",
    "client = OpenAI()"
   ]
  },
  {
   "cell_type": "markdown",
   "metadata": {},
   "source": [
    "- Denfinindo a função do assistente para pergunta"
   ]
  },
  {
   "cell_type": "code",
   "execution_count": 6,
   "metadata": {},
   "outputs": [
    {
     "name": "stdout",
     "output_type": "stream",
     "text": [
      "[{'role': 'system', 'content': 'Você como um assistente no processo de design de visualização de dados, deverá responder a pergunta com uma lista de possibilidades de forma de visualização de dados como resposta e retornar em uma lista no formato JSON'}, {'role': 'user', 'content': 'Cada item da lista de sugestões deve vir no formato: {/tipo: [tipo da visualuação de dados], descrição: [descrição clara do motivo de usar com pelo menos 50 palavras], variaveis: [lista com as variáveis necessárias para usar essa visualização e como usar a variável] }/'}, {'role': 'user', 'content': 'Eu, como um gerente de tecnologia, quero mostrar as lojas que mais vendem smartphones apple durante o ultimo ano, quais poderiam ser as melhores visualizações de dados para isso?'}]\n"
     ]
    }
   ],
   "source": [
    "pergunta = [\n",
    "    {\n",
    "        # aqui definimos que a resposta deve vir no formato JSON\n",
    "        \"role\": \"system\",\n",
    "        \"content\": \"Você, como um assistente no processo de design de visualização de dados, deverá responder a pergunta com uma lista de possibilidades de forma de visualização de dados como resposta e retornar em uma lista no formato JSON\"\n",
    "    },\n",
    "    {\n",
    "        # aqui definimos o padrão de resposta em cada item da lista\n",
    "        \"role\": \"user\",\n",
    "        \"content\": \"Cada item da lista de sugestões deve vir no formato: {/tipo: [tipo da visualuação de dados], descrição: [descrição clara do motivo de usar com pelo menos 50 palavras], variaveis: [lista com as variáveis necessárias para usar essa visualização e como usar a variável] }/\"\n",
    "    },\n",
    "    {\n",
    "        # aqui definimos que a pergunta como a linha escrita no prompt\n",
    "        \"role\": \"user\",\n",
    "        \"content\": promptPergunta\n",
    "     }\n",
    "]\n",
    "print(pergunta)"
   ]
  },
  {
   "cell_type": "markdown",
   "metadata": {},
   "source": [
    "- Criando uma função para executar o Chat"
   ]
  },
  {
   "cell_type": "code",
   "execution_count": 7,
   "metadata": {},
   "outputs": [],
   "source": [
    "def executarChat(mensagem):\n",
    "  return client.chat.completions.create(\n",
    "    model=\"gpt-3.5-turbo-1106\",\n",
    "    response_format={ \"type\": \"json_object\" },\n",
    "    messages=mensagem,\n",
    "  )"
   ]
  },
  {
   "cell_type": "markdown",
   "metadata": {},
   "source": [
    "- Executando o chat com o modelo e o formato para pergunta"
   ]
  },
  {
   "cell_type": "code",
   "execution_count": 12,
   "metadata": {},
   "outputs": [
    {
     "name": "stdout",
     "output_type": "stream",
     "text": [
      "{\n",
      "  \"1\": {\n",
      "    \"tipo\": \"Gráfico de barras\",\n",
      "    \"descrição\": \"Um gráfico de barras é uma ótima opção para comparar o desempenho de diferentes lojas em vendas de smartphones Apple ao longo de um período de tempo. Este tipo de visualização permite que os usuários vejam facilmente as diferenças nas vendas entre as lojas, e também permite a comparação de vendas ao longo do ano.\",\n",
      "    \"variaveis\": [\"Loja (variável categórica) - para representar as diferentes lojas\", \"Vendas (variável numérica) - para representar o número de vendas de smartphones Apple\", \"Mês/Ano (variável temporal) - para representar o período de tempo das vendas\"]\n",
      "  },\n",
      "  \"2\": {\n",
      "    \"tipo\": \"Gráfico de linhas\",\n",
      "    \"descrição\": \"Um gráfico de linhas pode ser útil para visualizar a tendência das vendas de smartphones Apple ao longo do último ano em cada loja. É uma boa opção para mostrar a evolução das vendas em cada loja, identificar picos ou quedas e comparar as performances ao longo do tempo.\",\n",
      "    \"variaveis\": [\"Loja (variável categórica) - para representar as diferentes lojas\", \"Vendas (variável numérica) - para representar o número de vendas de smartphones Apple\", \"Mês/Ano (variável temporal) - para representar o período de tempo das vendas\"]\n",
      "  },\n",
      "  \"3\": {\n",
      "    \"tipo\": \"Mapa de calor\",\n",
      "    \"descrição\": \"Um mapa de calor pode ser útil para visualizar as vendas de smartphones Apple por região geográfica. Este tipo de visualização permite identificar rapidamente as regiões com as maiores vendas, possibilitando a identificação de padrões ou tendências geográficas nas vendas.\",\n",
      "    \"variaveis\": [\"Localização (variável geográfica) - para representar as diferentes regiões ou lojas\", \"Vendas (variável numérica) - para representar o número de vendas de smartphones Apple\", \"Mês/Ano (variável temporal) - para representar o período de tempo das vendas\"]\n",
      "  }\n",
      "}\n"
     ]
    }
   ],
   "source": [
    "responsePergunta = executarChat(pergunta).choices[0].message.content\n",
    "\n",
    "print(responsePergunta)"
   ]
  },
  {
   "cell_type": "markdown",
   "metadata": {},
   "source": [
    "- Guardando as informações da pergunta em um JSON"
   ]
  },
  {
   "cell_type": "code",
   "execution_count": 25,
   "metadata": {},
   "outputs": [
    {
     "name": "stdout",
     "output_type": "stream",
     "text": [
      "Dados salvos em responsePergunta.json\n"
     ]
    }
   ],
   "source": [
    "import json\n",
    "\n",
    "if responsePergunta is not None:\n",
    "  jsonConverted = json.loads(responsePergunta)\n",
    "  with open(\"responsePergunta.json\", \"w\") as outfile:\n",
    "    json.dump(jsonConverted, outfile)\n",
    "  print(\"Dados salvos em responsePergunta.json\")"
   ]
  },
  {
   "cell_type": "markdown",
   "metadata": {},
   "source": [
    "- Convertento pergunta para CSV"
   ]
  },
  {
   "cell_type": "code",
   "execution_count": 39,
   "metadata": {},
   "outputs": [
    {
     "name": "stdout",
     "output_type": "stream",
     "text": [
      "Arquivo criado\n",
      "Cabeçalho criado\n",
      "Informações preenchidas\n"
     ]
    }
   ],
   "source": [
    "import csv\n",
    "\n",
    "with open(\"responsePergunta.json\", \"r\") as inputfile:\n",
    "    datas = json.load(inputfile)\n",
    "\n",
    "# Abrir um arquivo CSV para escrita\n",
    "with open('responsePergunta.csv', 'w', newline='', encoding='utf-8') as file:\n",
    "    # Criar um objeto escritor CSV\n",
    "    csv_writer = csv.writer(file)\n",
    "    print('Arquivo criado')\n",
    "    \n",
    "    # Escrever a linha de cabeçalho\n",
    "    header = ['Pergunta', 'Tipo', 'Descrição', 'Variveis']\n",
    "    csv_writer.writerow(header)\n",
    "    print('Cabeçalho criado')\n",
    "    \n",
    "    # Escrever as linhas de dados\n",
    "    for data in datas:\n",
    "        row = [promptPergunta, datas[data]['tipo'], datas[data]['descrição'], datas[data]['variaveis']]\n",
    "        csv_writer.writerow(row)\n",
    "    print('Informações preenchidas')"
   ]
  },
  {
   "cell_type": "markdown",
   "metadata": {},
   "source": [
    "- Definindo a função do assistente para avaliar as respostas"
   ]
  },
  {
   "cell_type": "code",
   "execution_count": 36,
   "metadata": {},
   "outputs": [
    {
     "name": "stdout",
     "output_type": "stream",
     "text": [
      "[{'role': 'system', 'content': 'Você como um assistente no processo de design de visualização de dados, deverá avaliar as possibilidades de resposta e responder com uma classificação de qual seria a mais indicada em formato JSON'}, {'role': 'user', 'content': 'Cada item da lista de sugestões deverá receber uma posição sendo a primeira a melhor e responder no seguinte formato: {/tipo: [tipo da visualuação de dados], nota: [uma nota de 1-7 para a visualização], motivo: [descrever o motivo da nota em relação as demais opções] }/'}, {'role': 'user', 'content': 'pergunta: Eu, como um gerente de tecnologia, quero mostrar as lojas que mais vendem smartphones apple durante o ultimo ano, quais poderiam ser as melhores visualizações de dados para isso?, avalie as seguintes opções: {\\n  \"1\": {\\n    \"tipo\": \"Gráfico de barras\",\\n    \"descrição\": \"Um gráfico de barras é uma ótima opção para comparar o desempenho de diferentes lojas em vendas de smartphones Apple ao longo de um período de tempo. Este tipo de visualização permite que os usuários vejam facilmente as diferenças nas vendas entre as lojas, e também permite a comparação de vendas ao longo do ano.\",\\n    \"variaveis\": [\"Loja (variável categórica) - para representar as diferentes lojas\", \"Vendas (variável numérica) - para representar o número de vendas de smartphones Apple\", \"Mês/Ano (variável temporal) - para representar o período de tempo das vendas\"]\\n  },\\n  \"2\": {\\n    \"tipo\": \"Gráfico de linhas\",\\n    \"descrição\": \"Um gráfico de linhas pode ser útil para visualizar a tendência das vendas de smartphones Apple ao longo do último ano em cada loja. É uma boa opção para mostrar a evolução das vendas em cada loja, identificar picos ou quedas e comparar as performances ao longo do tempo.\",\\n    \"variaveis\": [\"Loja (variável categórica) - para representar as diferentes lojas\", \"Vendas (variável numérica) - para representar o número de vendas de smartphones Apple\", \"Mês/Ano (variável temporal) - para representar o período de tempo das vendas\"]\\n  },\\n  \"3\": {\\n    \"tipo\": \"Mapa de calor\",\\n    \"descrição\": \"Um mapa de calor pode ser útil para visualizar as vendas de smartphones Apple por região geográfica. Este tipo de visualização permite identificar rapidamente as regiões com as maiores vendas, possibilitando a identificação de padrões ou tendências geográficas nas vendas.\",\\n    \"variaveis\": [\"Localização (variável geográfica) - para representar as diferentes regiões ou lojas\", \"Vendas (variável numérica) - para representar o número de vendas de smartphones Apple\", \"Mês/Ano (variável temporal) - para representar o período de tempo das vendas\"]\\n  }\\n}'}]\n"
     ]
    }
   ],
   "source": [
    "resposta = [\n",
    "    {\n",
    "        # aqui definimos que a resposta deve vir no formato JSON\n",
    "        \"role\": \"system\",\n",
    "        \"content\": \"Você como um assistente no processo de design de visualização de dados, deverá avaliar as possibilidades de resposta e responder com uma classificação de qual seria a mais indicada em formato JSON\"\n",
    "    },\n",
    "    {\n",
    "        # aqui definimos o padrão de resposta em cada item da lista\n",
    "        \"role\": \"user\",\n",
    "        \"content\": \"Cada item da lista de sugestões deverá receber uma posição sendo a primeira a melhor e responder no seguinte formato: {/tipo: [tipo da visualuação de dados], nota: [uma nota de 1-7 para a visualização], motivo: [descrever o motivo da nota em relação as demais opções] }/\"\n",
    "    },\n",
    "    {\n",
    "        # aqui definimos que a pergunta como a linha escrita no prompt\n",
    "        \"role\": \"user\",\n",
    "        \"content\": 'pergunta: ' + promptPergunta + ', avalie as seguintes opções: ' + responsePergunta # type: ignore\n",
    "     }\n",
    "]\n",
    "\n",
    "print(resposta)"
   ]
  },
  {
   "cell_type": "markdown",
   "metadata": {},
   "source": [
    "- Executando o chat com o modelo e o formato para avaliar as respostas"
   ]
  },
  {
   "cell_type": "code",
   "execution_count": 37,
   "metadata": {},
   "outputs": [
    {
     "name": "stdout",
     "output_type": "stream",
     "text": [
      "{\n",
      "  \"1\": {\n",
      "    \"tipo\": \"Gráfico de barras\",\n",
      "    \"nota\": 7,\n",
      "    \"motivo\": \"O gráfico de barras permite uma comparação clara entre as lojas, evidenciando as diferenças nas vendas de smartphones Apple ao longo do ano. Além disso, a comparação é fácil de ser feita e as tendências podem ser identificadas rapidamente.\"\n",
      "  },\n",
      "  \"2\": {\n",
      "    \"tipo\": \"Gráfico de linhas\",\n",
      "    \"nota\": 5,\n",
      "    \"motivo\": \"O gráfico de linhas pode ser útil para mostrar a evolução das vendas ao longo do ano, mas pode não ser tão eficiente na comparação entre as lojas, pois a ênfase está na tendência temporal e não na comparação direta entre as lojas.\"\n",
      "  },\n",
      "  \"3\": {\n",
      "    \"tipo\": \"Mapa de calor\",\n",
      "    \"nota\": 4,\n",
      "    \"motivo\": \"Embora o mapa de calor seja útil para visualizar as vendas por região geográfica, pode não ser a melhor opção para comparar o desempenho das lojas ao longo do ano, pois a ênfase está na localização geográfica em vez das vendas.\"\n",
      "  }\n",
      "}\n"
     ]
    }
   ],
   "source": [
    "responseResposta = executarChat(resposta).choices[0].message.content\n",
    "\n",
    "print(responseResposta)"
   ]
  },
  {
   "cell_type": "markdown",
   "metadata": {},
   "source": [
    "- Guardando as informações de avaliação de resposta em um JSON"
   ]
  },
  {
   "cell_type": "code",
   "execution_count": 38,
   "metadata": {},
   "outputs": [
    {
     "name": "stdout",
     "output_type": "stream",
     "text": [
      "Dados salvos em responseResposta.json\n"
     ]
    }
   ],
   "source": [
    "if responseResposta is not None:\n",
    "  jsonConverted = json.loads(responseResposta)\n",
    "  with open(\"responseResposta.json\", \"w\") as outfile:\n",
    "    json.dump(jsonConverted, outfile)\n",
    "  print(\"Dados salvos em responseResposta.json\")"
   ]
  },
  {
   "cell_type": "markdown",
   "metadata": {},
   "source": [
    "- Convertendo respostas para CSV"
   ]
  },
  {
   "cell_type": "code",
   "execution_count": 40,
   "metadata": {},
   "outputs": [
    {
     "name": "stdout",
     "output_type": "stream",
     "text": [
      "Arquivo criado\n",
      "Cabeçalho criado\n",
      "Informações preenchidas\n"
     ]
    }
   ],
   "source": [
    "with open(\"responseResposta.json\", \"r\") as inputfile:\n",
    "    datas = json.load(inputfile)\n",
    "\n",
    "# Abrir um arquivo CSV para escrita\n",
    "with open('responseResposta.csv', 'w', newline='', encoding='utf-8') as file:\n",
    "    # Criar um objeto escritor CSV\n",
    "    csv_writer = csv.writer(file)\n",
    "    print('Arquivo criado')\n",
    "    \n",
    "    # Escrever a linha de cabeçalho\n",
    "    header = ['Pergunta', 'Tipo', 'Nota', 'Motivo']\n",
    "    csv_writer.writerow(header)\n",
    "    print('Cabeçalho criado')\n",
    "    \n",
    "    # Escrever as linhas de dados\n",
    "    for data in datas:\n",
    "        row = [promptPergunta, datas[data]['tipo'], datas[data]['nota'], datas[data]['motivo']]\n",
    "        csv_writer.writerow(row)\n",
    "    print('Informações preenchidas')"
   ]
  }
 ],
 "metadata": {
  "kernelspec": {
   "display_name": "Python 3",
   "language": "python",
   "name": "python3"
  },
  "language_info": {
   "codemirror_mode": {
    "name": "ipython",
    "version": 3
   },
   "file_extension": ".py",
   "mimetype": "text/x-python",
   "name": "python",
   "nbconvert_exporter": "python",
   "pygments_lexer": "ipython3",
   "version": "3.12.2"
  }
 },
 "nbformat": 4,
 "nbformat_minor": 2
}
